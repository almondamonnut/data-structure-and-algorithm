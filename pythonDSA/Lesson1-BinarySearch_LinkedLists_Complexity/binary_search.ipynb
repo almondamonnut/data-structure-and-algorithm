{
 "cells": [
  {
   "attachments": {},
   "cell_type": "markdown",
   "metadata": {},
   "source": [
    "QUESTION 1: sorted face-down cards, find way to pick up card with the number of query written on it by seeing only 1 card at a time and see fewest possible cards."
   ]
  },
  {
   "attachments": {},
   "cell_type": "markdown",
   "metadata": {},
   "source": [
    "# STEPS TO SOLVE"
   ]
  },
  {
   "attachments": {},
   "cell_type": "markdown",
   "metadata": {},
   "source": [
    "## 1. analyze input and output \n",
    "\n",
    "- input: list of cards, query number\n",
    "- output: index of the target card"
   ]
  },
  {
   "cell_type": "code",
   "execution_count": 21,
   "metadata": {},
   "outputs": [],
   "source": [
    "def locate_card(cards_list, query_num):\n",
    "    target_index = None\n",
    "    return target_index"
   ]
  },
  {
   "attachments": {},
   "cell_type": "markdown",
   "metadata": {},
   "source": [
    "## 2. come up with test cases and edge cases"
   ]
  },
  {
   "cell_type": "code",
   "execution_count": 18,
   "metadata": {},
   "outputs": [],
   "source": [
    "tests = []\n",
    "\n",
    "# 2.1 answer is somewhere in the middle\n",
    "tests.append({\n",
    "    'input': {\n",
    "        'cards_list' : [13, 11, 10, 7, 4, 3, 1, 0],\n",
    "        'query_num' : 7\n",
    "    },\n",
    "    'output' : [3]\n",
    "})\n",
    "\n",
    "# 2.2 answer is the first index\n",
    "tests.append({\n",
    "    'input': {\n",
    "        'cards_list' : [13, 11, 10, 7, 4, 3, 1, 0],\n",
    "        'query_num' : 13\n",
    "    },\n",
    "    'output' : [0]\n",
    "})\n",
    "\n",
    "# 2.3 answer is the last index\n",
    "tests.append({\n",
    "    'input': {\n",
    "        'cards_list' : [13, 11, 10, 7, 4, 3, 1, 0],\n",
    "        'query_num' : 0\n",
    "    },\n",
    "    'output' : [7]\n",
    "})\n",
    "\n",
    "# 2.4 there is only 1 element in list which is also the answer\n",
    "tests.append({\n",
    "    'input': {\n",
    "        'cards_list' : [9],\n",
    "        'query_num' : 9\n",
    "    },\n",
    "    'output' : [0]\n",
    "})\n",
    "\n",
    "# 2.5 no answers in the given list\n",
    "tests.append({\n",
    "    'input': {\n",
    "        'cards_list' : [13, 11, 10, 7, 4, 3, 1],\n",
    "        'query_num' : 0\n",
    "    },\n",
    "    'output' : [None]\n",
    "})\n",
    "\n",
    "# 2.6 the list contains repeting numbers and that is the answer\n",
    "tests.append({\n",
    "    'input': {\n",
    "        'cards_list' : [13, 11, 11, 11, 10, 7, 4, 3, 1],\n",
    "        'query_num' : 11\n",
    "    },\n",
    "    'output' : [1,2,3]\n",
    "})\n",
    "\n",
    "# 2.7 the list contains repeting numbers and that is not the answer\n",
    "tests.append({\n",
    "    'input': {\n",
    "        'cards_list' : [13, 11, 11, 11, 10, 7, 4, 3, 1],\n",
    "        'query_num' : 10\n",
    "    },\n",
    "    'output' : [4]\n",
    "})\n",
    "\n",
    "# 2.8 the list contain negative number\n",
    "tests.append({\n",
    "    'input': {\n",
    "        'cards_list' : [13, 2, 0, -1, -4, -90],\n",
    "        'query_num' : -4\n",
    "    },\n",
    "    'output' : [4]\n",
    "})\n",
    "\n",
    "# 2.9 the list is empty\n",
    "tests.append({\n",
    "    'input': {\n",
    "        'cards_list' : [],\n",
    "        'query_num' : 11\n",
    "    },\n",
    "    'output' : [None]\n",
    "})"
   ]
  },
  {
   "cell_type": "code",
   "execution_count": 20,
   "metadata": {},
   "outputs": [
    {
     "data": {
      "text/plain": [
       "[{'input': {'cards_list': [13, 11, 10, 7, 4, 3, 1, 0], 'query_num': 7},\n",
       "  'output': [3]},\n",
       " {'input': {'cards_list': [13, 11, 10, 7, 4, 3, 1, 0], 'query_num': 13},\n",
       "  'output': [0]},\n",
       " {'input': {'cards_list': [13, 11, 10, 7, 4, 3, 1, 0], 'query_num': 0},\n",
       "  'output': [7]},\n",
       " {'input': {'cards_list': [9], 'query_num': 9}, 'output': [0]},\n",
       " {'input': {'cards_list': [13, 11, 10, 7, 4, 3, 1], 'query_num': 0},\n",
       "  'output': [None]},\n",
       " {'input': {'cards_list': [13, 11, 11, 11, 10, 7, 4, 3, 1], 'query_num': 11},\n",
       "  'output': [1, 2, 3]},\n",
       " {'input': {'cards_list': [13, 11, 11, 11, 10, 7, 4, 3, 1], 'query_num': 10},\n",
       "  'output': [4]},\n",
       " {'input': {'cards_list': [13, 2, 0, -1, -4, -90], 'query_num': -4},\n",
       "  'output': [4]},\n",
       " {'input': {'cards_list': [], 'query_num': 11}, 'output': [None]}]"
      ]
     },
     "execution_count": 20,
     "metadata": {},
     "output_type": "execute_result"
    }
   ],
   "source": [
    "tests"
   ]
  },
  {
   "attachments": {},
   "cell_type": "markdown",
   "metadata": {},
   "source": [
    "## 3. check answer"
   ]
  },
  {
   "cell_type": "code",
   "execution_count": 22,
   "metadata": {},
   "outputs": [
    {
     "name": "stdout",
     "output_type": "stream",
     "text": [
      "ans = None\n"
     ]
    },
    {
     "data": {
      "text/plain": [
       "False"
      ]
     },
     "execution_count": 22,
     "metadata": {},
     "output_type": "execute_result"
    }
   ],
   "source": [
    "# ** before dictionary is to put all parameters as kwargs\n",
    "ans = locate_card(**tests[0]['input'])\n",
    "print(\"ans =\", ans)\n",
    "ans in tests[0]['output']"
   ]
  },
  {
   "attachments": {},
   "cell_type": "markdown",
   "metadata": {},
   "source": [
    "## 4. come up with solutions"
   ]
  },
  {
   "attachments": {},
   "cell_type": "markdown",
   "metadata": {},
   "source": [
    "We may start with brute force then make it more advanced later"
   ]
  },
  {
   "cell_type": "code",
   "execution_count": 23,
   "metadata": {},
   "outputs": [],
   "source": [
    "# brute force\n",
    "def locate_card(cards_list, query_num):\n",
    "    target_index = None\n",
    "    for idx in range(len(cards_list)):\n",
    "        if cards_list[idx]==query_num:\n",
    "            target_index = idx\n",
    "    return target_index"
   ]
  },
  {
   "cell_type": "code",
   "execution_count": 25,
   "metadata": {},
   "outputs": [
    {
     "name": "stdout",
     "output_type": "stream",
     "text": [
      "0. ans = 3\n",
      "True\n",
      "1. ans = 0\n",
      "True\n",
      "2. ans = 7\n",
      "True\n",
      "3. ans = 0\n",
      "True\n",
      "4. ans = None\n",
      "True\n",
      "5. ans = 3\n",
      "True\n",
      "6. ans = 4\n",
      "True\n",
      "7. ans = 4\n",
      "True\n",
      "8. ans = None\n",
      "True\n"
     ]
    }
   ],
   "source": [
    "for i in range(len(tests)):\n",
    "    ans = locate_card(**tests[i]['input'])\n",
    "    print(f\"{i}. ans =\", ans)\n",
    "    print(ans in tests[i]['output'])"
   ]
  },
  {
   "cell_type": "code",
   "execution_count": null,
   "metadata": {},
   "outputs": [],
   "source": [
    "# Binary search: start from the middle then keep dividing into halves into the side that "
   ]
  }
 ],
 "metadata": {
  "kernelspec": {
   "display_name": "Python 3",
   "language": "python",
   "name": "python3"
  },
  "language_info": {
   "codemirror_mode": {
    "name": "ipython",
    "version": 3
   },
   "file_extension": ".py",
   "mimetype": "text/x-python",
   "name": "python",
   "nbconvert_exporter": "python",
   "pygments_lexer": "ipython3",
   "version": "3.10.11"
  },
  "orig_nbformat": 4
 },
 "nbformat": 4,
 "nbformat_minor": 2
}
